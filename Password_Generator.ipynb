{
 "cells": [
  {
   "cell_type": "code",
   "execution_count": 27,
   "id": "69bfb516",
   "metadata": {
    "collapsed": true
   },
   "outputs": [
    {
     "name": "stdout",
     "output_type": "stream",
     "text": [
      "*** Password Generator ***\n",
      "Enter the desired length of the password : 8\n",
      "Do you want to include uppercase letters? (y/n) : n\n",
      "Do you want to include lowercase letters? (y/n) : n\n",
      "Do you want to include numbers? (y/n) : y\n",
      "Do you want to include punctuation? (y/n) : n\n",
      "\n",
      "Generated Password :  57010432\n",
      "\n",
      "Password Strength :  2\n"
     ]
    }
   ],
   "source": [
    "import string\n",
    "import random\n",
    "\n",
    "def generate_password(length,include_uppercase,include_lowercase,include_numbers,include_punctuation):\n",
    "        character_set = \"\"\n",
    "        \n",
    "        if include_uppercase :\n",
    "            character_set += string.ascii_uppercase\n",
    "        if include_lowercase :\n",
    "            character_set += string.ascii_lowercase\n",
    "        if include_numbers :\n",
    "            character_set += string.digits\n",
    "        if include_punctuation :\n",
    "            character_set += string.punctuation\n",
    "            \n",
    "        if not character_set :\n",
    "            print(\"\\nNo character set selected.Include atlest one character class.\")\n",
    "            return None\n",
    "        \n",
    "        password = \"\".join(random.choice(character_set) for _ in range(length))\n",
    "        return password\n",
    "    \n",
    "def evaluated_password_strength(password):\n",
    "    strength = 0\n",
    "    \n",
    "    if len(password) >= 8:\n",
    "        strength += 1\n",
    "    if any(char.isupper() for char in password):\n",
    "        strength += 1\n",
    "    if any(char.islower() for char in password):\n",
    "        strength += 1\n",
    "    if any(char.isdigit() for char in password):\n",
    "        strength += 1\n",
    "    if any(char in string.punctuation for char in password):\n",
    "        strength += 1\n",
    "    \n",
    "    return strength\n",
    "\n",
    "def main():\n",
    "    print(\"*** Password Generator ***\")\n",
    "    \n",
    "    length = int(input(\"Enter the desired length of the password : \"))\n",
    "    include_uppercase = input(\"Do you want to include uppercase letters? (y/n) : \").lower() == 'y'\n",
    "    include_lowercase = input(\"Do you want to include lowercase letters? (y/n) : \").lower() == 'y'\n",
    "    include_numbers = input(\"Do you want to include numbers? (y/n) : \").lower() == 'y'\n",
    "    include_punctuation = input(\"Do you want to include punctuation? (y/n) : \").lower() == 'y'\n",
    "    \n",
    "    password = generate_password(length,include_uppercase,include_lowercase,include_numbers,include_punctuation)\n",
    "    \n",
    "    if password:\n",
    "        strength = evaluated_password_strength(password)\n",
    "        \n",
    "        print(\"\\nGenerated Password : \", password)\n",
    "        print(\"\\nPassword Strength : \",strength)\n",
    "        \n",
    "if __name__ == \"__main__\":\n",
    "    main()"
   ]
  },
  {
   "cell_type": "code",
   "execution_count": null,
   "id": "d0a5b217",
   "metadata": {},
   "outputs": [],
   "source": []
  }
 ],
 "metadata": {
  "kernelspec": {
   "display_name": "Python 3 (ipykernel)",
   "language": "python",
   "name": "python3"
  },
  "language_info": {
   "codemirror_mode": {
    "name": "ipython",
    "version": 3
   },
   "file_extension": ".py",
   "mimetype": "text/x-python",
   "name": "python",
   "nbconvert_exporter": "python",
   "pygments_lexer": "ipython3",
   "version": "3.11.4"
  }
 },
 "nbformat": 4,
 "nbformat_minor": 5
}
